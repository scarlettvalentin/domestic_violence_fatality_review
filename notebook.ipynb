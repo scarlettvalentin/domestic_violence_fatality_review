{
 "cells": [
  {
   "cell_type": "markdown",
   "id": "535357fe-91f1-4889-8167-33d1be601bf3",
   "metadata": {},
   "source": [
    "# Overview"
   ]
  },
  {
   "cell_type": "markdown",
   "id": "36f34c03-72d6-46a4-aff6-7dfe2bf88d6a",
   "metadata": {},
   "source": []
  },
  {
   "cell_type": "markdown",
   "id": "43c80fa5-b79d-47bb-af61-18a74ff116fe",
   "metadata": {},
   "source": [
    "# Business Understanding"
   ]
  },
  {
   "cell_type": "markdown",
   "id": "afdf9863-a65b-4d46-a944-b4f803c8d80f",
   "metadata": {},
   "source": []
  },
  {
   "cell_type": "markdown",
   "id": "fadab6ee-5df5-4f57-9ed3-cbbdaac22bfd",
   "metadata": {},
   "source": [
    "# Data Understanding"
   ]
  },
  {
   "cell_type": "markdown",
   "id": "9ac516ff-967c-497a-8d1c-502989335015",
   "metadata": {},
   "source": []
  },
  {
   "cell_type": "markdown",
   "id": "ee197409-d0bc-4e59-bcb9-b6388bf81ffa",
   "metadata": {},
   "source": [
    "# Data Preparation"
   ]
  },
  {
   "cell_type": "markdown",
   "id": "1f5d2438-5e71-4c9e-8575-665b955161d5",
   "metadata": {},
   "source": []
  },
  {
   "cell_type": "markdown",
   "id": "9aac8353-4661-4043-bd7b-2df243e49f3b",
   "metadata": {},
   "source": [
    "## Exploratory Data Analysis"
   ]
  },
  {
   "cell_type": "markdown",
   "id": "794b6fcc-ab99-4582-8576-5146899f4a05",
   "metadata": {},
   "source": []
  },
  {
   "cell_type": "markdown",
   "id": "0295ced0-69e2-4ff1-b610-3be89a4a4d95",
   "metadata": {},
   "source": [
    "## Data Preparation"
   ]
  },
  {
   "cell_type": "markdown",
   "id": "aeef51a9-4477-4036-bc2a-363e7ab60fcd",
   "metadata": {},
   "source": []
  },
  {
   "cell_type": "markdown",
   "id": "500a2bcd-6664-4406-9639-206ad1d8ee45",
   "metadata": {},
   "source": [
    "## Feature Engineering"
   ]
  },
  {
   "cell_type": "markdown",
   "id": "f25c4f7b-a14a-4b74-83fe-398f37d5392c",
   "metadata": {},
   "source": []
  },
  {
   "cell_type": "markdown",
   "id": "6f289876-ca89-4515-b19e-d67574af9d30",
   "metadata": {},
   "source": [
    "# Modeling"
   ]
  },
  {
   "cell_type": "markdown",
   "id": "c3698669-c892-48dc-a195-42b45979ad08",
   "metadata": {},
   "source": []
  },
  {
   "cell_type": "markdown",
   "id": "3352a5be-de43-4a90-80cf-30b2855d97e9",
   "metadata": {},
   "source": [
    "## Baseline Model"
   ]
  },
  {
   "cell_type": "markdown",
   "id": "755c710d-5151-47d3-82e9-2879b79db817",
   "metadata": {},
   "source": []
  },
  {
   "cell_type": "markdown",
   "id": "8f4572de-1172-45d8-99b3-80aeda5bbf75",
   "metadata": {},
   "source": [
    "## Modeline Iterations"
   ]
  },
  {
   "cell_type": "markdown",
   "id": "cff10979-141a-403e-a062-a28ff0723c0e",
   "metadata": {},
   "source": []
  },
  {
   "cell_type": "markdown",
   "id": "d5e217f1-360c-43c6-a5c5-ac10f7f4cab3",
   "metadata": {},
   "source": [
    "## Final Model"
   ]
  },
  {
   "cell_type": "markdown",
   "id": "64cdc28e-6927-4152-83ac-75aa586f93a8",
   "metadata": {},
   "source": []
  },
  {
   "cell_type": "markdown",
   "id": "52924b1d-2c75-4517-886b-449f5bdf32ce",
   "metadata": {},
   "source": [
    "# Conclusion"
   ]
  },
  {
   "cell_type": "markdown",
   "id": "4bbf02a6-b9a0-448b-96e4-fe1e21e6f3f7",
   "metadata": {},
   "source": []
  },
  {
   "cell_type": "markdown",
   "id": "3eb77b8a-7835-4f31-83c3-67fe33d3ef34",
   "metadata": {},
   "source": [
    "## Limitations"
   ]
  },
  {
   "cell_type": "markdown",
   "id": "cfe1210c-4c3e-495c-8166-5f213417c5a6",
   "metadata": {},
   "source": []
  },
  {
   "cell_type": "markdown",
   "id": "cde2394e-9486-4a7a-9546-eda19a36b533",
   "metadata": {},
   "source": [
    "## Next Steps"
   ]
  },
  {
   "cell_type": "markdown",
   "id": "9ea64d2f-b2aa-4524-8020-7ffa4a13936a",
   "metadata": {},
   "source": []
  }
 ],
 "metadata": {
  "kernelspec": {
   "display_name": "Python 3 (ipykernel)",
   "language": "python",
   "name": "python3"
  },
  "language_info": {
   "codemirror_mode": {
    "name": "ipython",
    "version": 3
   },
   "file_extension": ".py",
   "mimetype": "text/x-python",
   "name": "python",
   "nbconvert_exporter": "python",
   "pygments_lexer": "ipython3",
   "version": "3.11.8"
  }
 },
 "nbformat": 4,
 "nbformat_minor": 5
}
