{
 "cells": [
  {
   "cell_type": "markdown",
   "id": "535357fe-91f1-4889-8167-33d1be601bf3",
   "metadata": {},
   "source": [
    "# Overview"
   ]
  },
  {
   "cell_type": "markdown",
   "id": "36f34c03-72d6-46a4-aff6-7dfe2bf88d6a",
   "metadata": {},
   "source": []
  },
  {
   "cell_type": "markdown",
   "id": "43c80fa5-b79d-47bb-af61-18a74ff116fe",
   "metadata": {},
   "source": [
    "# Business Understanding"
   ]
  },
  {
   "cell_type": "markdown",
   "id": "afdf9863-a65b-4d46-a944-b4f803c8d80f",
   "metadata": {},
   "source": []
  },
  {
   "cell_type": "markdown",
   "id": "fadab6ee-5df5-4f57-9ed3-cbbdaac22bfd",
   "metadata": {},
   "source": [
    "# Data Understanding"
   ]
  },
  {
   "cell_type": "markdown",
   "id": "9ac516ff-967c-497a-8d1c-502989335015",
   "metadata": {},
   "source": []
  },
  {
   "cell_type": "code",
   "execution_count": 1,
   "id": "2bdcb77f-e442-4664-afb0-238e5a2636e1",
   "metadata": {},
   "outputs": [],
   "source": [
    "import pandas as pd\n",
    "import numpy as np"
   ]
  },
  {
   "cell_type": "code",
   "execution_count": 63,
   "id": "3b25b0bb-4b8f-45c7-ab1d-0d11a8b4c2e2",
   "metadata": {},
   "outputs": [
    {
     "name": "stderr",
     "output_type": "stream",
     "text": [
      "/var/folders/pn/v9tvzf9s5ms7zcp53821ct0m0000gn/T/ipykernel_57005/800487650.py:1: DtypeWarning: Columns (0) have mixed types. Specify dtype option on import or set low_memory=False.\n",
      "  data = pd.read_csv('data/NYPD_Complaint_Data_Historic_20241022.csv')\n"
     ]
    },
    {
     "data": {
      "text/html": [
       "<div>\n",
       "<style scoped>\n",
       "    .dataframe tbody tr th:only-of-type {\n",
       "        vertical-align: middle;\n",
       "    }\n",
       "\n",
       "    .dataframe tbody tr th {\n",
       "        vertical-align: top;\n",
       "    }\n",
       "\n",
       "    .dataframe thead th {\n",
       "        text-align: right;\n",
       "    }\n",
       "</style>\n",
       "<table border=\"1\" class=\"dataframe\">\n",
       "  <thead>\n",
       "    <tr style=\"text-align: right;\">\n",
       "      <th></th>\n",
       "      <th>CMPLNT_NUM</th>\n",
       "      <th>CMPLNT_FR_DT</th>\n",
       "      <th>CMPLNT_FR_TM</th>\n",
       "      <th>CMPLNT_TO_DT</th>\n",
       "      <th>CMPLNT_TO_TM</th>\n",
       "      <th>ADDR_PCT_CD</th>\n",
       "      <th>RPT_DT</th>\n",
       "      <th>KY_CD</th>\n",
       "      <th>OFNS_DESC</th>\n",
       "      <th>PD_CD</th>\n",
       "      <th>...</th>\n",
       "      <th>SUSP_SEX</th>\n",
       "      <th>TRANSIT_DISTRICT</th>\n",
       "      <th>Latitude</th>\n",
       "      <th>Longitude</th>\n",
       "      <th>Lat_Lon</th>\n",
       "      <th>PATROL_BORO</th>\n",
       "      <th>STATION_NAME</th>\n",
       "      <th>VIC_AGE_GROUP</th>\n",
       "      <th>VIC_RACE</th>\n",
       "      <th>VIC_SEX</th>\n",
       "    </tr>\n",
       "  </thead>\n",
       "  <tbody>\n",
       "    <tr>\n",
       "      <th>0</th>\n",
       "      <td>25640826H10611</td>\n",
       "      <td>12/05/2006</td>\n",
       "      <td>10:38:00</td>\n",
       "      <td>NaN</td>\n",
       "      <td>(null)</td>\n",
       "      <td>NaN</td>\n",
       "      <td>12/05/2006</td>\n",
       "      <td>101</td>\n",
       "      <td>MURDER &amp; NON-NEGL. MANSLAUGHTER</td>\n",
       "      <td>NaN</td>\n",
       "      <td>...</td>\n",
       "      <td>(null)</td>\n",
       "      <td>NaN</td>\n",
       "      <td>NaN</td>\n",
       "      <td>NaN</td>\n",
       "      <td>NaN</td>\n",
       "      <td>PATROL BORO QUEENS NORTH</td>\n",
       "      <td>(null)</td>\n",
       "      <td>25-44</td>\n",
       "      <td>WHITE HISPANIC</td>\n",
       "      <td>M</td>\n",
       "    </tr>\n",
       "    <tr>\n",
       "      <th>1</th>\n",
       "      <td>16631501H8965</td>\n",
       "      <td>08/25/1973</td>\n",
       "      <td>12:15:00</td>\n",
       "      <td>NaN</td>\n",
       "      <td>(null)</td>\n",
       "      <td>NaN</td>\n",
       "      <td>05/29/2006</td>\n",
       "      <td>101</td>\n",
       "      <td>MURDER &amp; NON-NEGL. MANSLAUGHTER</td>\n",
       "      <td>NaN</td>\n",
       "      <td>...</td>\n",
       "      <td>(null)</td>\n",
       "      <td>NaN</td>\n",
       "      <td>NaN</td>\n",
       "      <td>NaN</td>\n",
       "      <td>NaN</td>\n",
       "      <td>PATROL BORO MAN NORTH</td>\n",
       "      <td>(null)</td>\n",
       "      <td>45-64</td>\n",
       "      <td>BLACK</td>\n",
       "      <td>F</td>\n",
       "    </tr>\n",
       "    <tr>\n",
       "      <th>2</th>\n",
       "      <td>11118212H8714</td>\n",
       "      <td>04/22/2006</td>\n",
       "      <td>16:50:00</td>\n",
       "      <td>NaN</td>\n",
       "      <td>(null)</td>\n",
       "      <td>NaN</td>\n",
       "      <td>04/22/2006</td>\n",
       "      <td>101</td>\n",
       "      <td>MURDER &amp; NON-NEGL. MANSLAUGHTER</td>\n",
       "      <td>NaN</td>\n",
       "      <td>...</td>\n",
       "      <td>(null)</td>\n",
       "      <td>NaN</td>\n",
       "      <td>NaN</td>\n",
       "      <td>NaN</td>\n",
       "      <td>NaN</td>\n",
       "      <td>PATROL BORO BKLYN SOUTH</td>\n",
       "      <td>(null)</td>\n",
       "      <td>45-64</td>\n",
       "      <td>BLACK</td>\n",
       "      <td>M</td>\n",
       "    </tr>\n",
       "    <tr>\n",
       "      <th>3</th>\n",
       "      <td>23471265H9399</td>\n",
       "      <td>07/20/2006</td>\n",
       "      <td>22:37:00</td>\n",
       "      <td>NaN</td>\n",
       "      <td>(null)</td>\n",
       "      <td>NaN</td>\n",
       "      <td>07/20/2006</td>\n",
       "      <td>101</td>\n",
       "      <td>MURDER &amp; NON-NEGL. MANSLAUGHTER</td>\n",
       "      <td>NaN</td>\n",
       "      <td>...</td>\n",
       "      <td>(null)</td>\n",
       "      <td>NaN</td>\n",
       "      <td>NaN</td>\n",
       "      <td>NaN</td>\n",
       "      <td>NaN</td>\n",
       "      <td>PATROL BORO BKLYN SOUTH</td>\n",
       "      <td>(null)</td>\n",
       "      <td>18-24</td>\n",
       "      <td>BLACK</td>\n",
       "      <td>M</td>\n",
       "    </tr>\n",
       "    <tr>\n",
       "      <th>4</th>\n",
       "      <td>24565927H10142</td>\n",
       "      <td>04/14/2006</td>\n",
       "      <td>02:37:00</td>\n",
       "      <td>NaN</td>\n",
       "      <td>(null)</td>\n",
       "      <td>NaN</td>\n",
       "      <td>04/14/2006</td>\n",
       "      <td>101</td>\n",
       "      <td>MURDER &amp; NON-NEGL. MANSLAUGHTER</td>\n",
       "      <td>NaN</td>\n",
       "      <td>...</td>\n",
       "      <td>(null)</td>\n",
       "      <td>NaN</td>\n",
       "      <td>NaN</td>\n",
       "      <td>NaN</td>\n",
       "      <td>NaN</td>\n",
       "      <td>PATROL BORO BKLYN NORTH</td>\n",
       "      <td>(null)</td>\n",
       "      <td>45-64</td>\n",
       "      <td>BLACK</td>\n",
       "      <td>M</td>\n",
       "    </tr>\n",
       "  </tbody>\n",
       "</table>\n",
       "<p>5 rows × 35 columns</p>\n",
       "</div>"
      ],
      "text/plain": [
       "       CMPLNT_NUM CMPLNT_FR_DT CMPLNT_FR_TM CMPLNT_TO_DT CMPLNT_TO_TM  \\\n",
       "0  25640826H10611   12/05/2006     10:38:00          NaN       (null)   \n",
       "1   16631501H8965   08/25/1973     12:15:00          NaN       (null)   \n",
       "2   11118212H8714   04/22/2006     16:50:00          NaN       (null)   \n",
       "3   23471265H9399   07/20/2006     22:37:00          NaN       (null)   \n",
       "4  24565927H10142   04/14/2006     02:37:00          NaN       (null)   \n",
       "\n",
       "   ADDR_PCT_CD      RPT_DT  KY_CD                        OFNS_DESC  PD_CD  \\\n",
       "0          NaN  12/05/2006    101  MURDER & NON-NEGL. MANSLAUGHTER    NaN   \n",
       "1          NaN  05/29/2006    101  MURDER & NON-NEGL. MANSLAUGHTER    NaN   \n",
       "2          NaN  04/22/2006    101  MURDER & NON-NEGL. MANSLAUGHTER    NaN   \n",
       "3          NaN  07/20/2006    101  MURDER & NON-NEGL. MANSLAUGHTER    NaN   \n",
       "4          NaN  04/14/2006    101  MURDER & NON-NEGL. MANSLAUGHTER    NaN   \n",
       "\n",
       "   ... SUSP_SEX TRANSIT_DISTRICT Latitude Longitude Lat_Lon  \\\n",
       "0  ...   (null)              NaN      NaN       NaN     NaN   \n",
       "1  ...   (null)              NaN      NaN       NaN     NaN   \n",
       "2  ...   (null)              NaN      NaN       NaN     NaN   \n",
       "3  ...   (null)              NaN      NaN       NaN     NaN   \n",
       "4  ...   (null)              NaN      NaN       NaN     NaN   \n",
       "\n",
       "                PATROL_BORO STATION_NAME  VIC_AGE_GROUP        VIC_RACE  \\\n",
       "0  PATROL BORO QUEENS NORTH       (null)          25-44  WHITE HISPANIC   \n",
       "1     PATROL BORO MAN NORTH       (null)          45-64           BLACK   \n",
       "2   PATROL BORO BKLYN SOUTH       (null)          45-64           BLACK   \n",
       "3   PATROL BORO BKLYN SOUTH       (null)          18-24           BLACK   \n",
       "4   PATROL BORO BKLYN NORTH       (null)          45-64           BLACK   \n",
       "\n",
       "  VIC_SEX  \n",
       "0       M  \n",
       "1       F  \n",
       "2       M  \n",
       "3       M  \n",
       "4       M  \n",
       "\n",
       "[5 rows x 35 columns]"
      ]
     },
     "execution_count": 63,
     "metadata": {},
     "output_type": "execute_result"
    }
   ],
   "source": [
    "data = pd.read_csv('data/NYPD_Complaint_Data_Historic_20241022.csv')\n",
    "data.head()"
   ]
  },
  {
   "cell_type": "markdown",
   "id": "ee197409-d0bc-4e59-bcb9-b6388bf81ffa",
   "metadata": {},
   "source": [
    "# Data Preparation"
   ]
  },
  {
   "cell_type": "markdown",
   "id": "1f5d2438-5e71-4c9e-8575-665b955161d5",
   "metadata": {},
   "source": []
  },
  {
   "cell_type": "markdown",
   "id": "9aac8353-4661-4043-bd7b-2df243e49f3b",
   "metadata": {},
   "source": [
    "## Exploratory Data Analysis"
   ]
  },
  {
   "cell_type": "markdown",
   "id": "794b6fcc-ab99-4582-8576-5146899f4a05",
   "metadata": {},
   "source": []
  },
  {
   "cell_type": "code",
   "execution_count": 64,
   "id": "5e5dc26f-dd61-4282-b9ee-fc6d340f9316",
   "metadata": {},
   "outputs": [
    {
     "name": "stdout",
     "output_type": "stream",
     "text": [
      "<class 'pandas.core.frame.DataFrame'>\n",
      "RangeIndex: 8914838 entries, 0 to 8914837\n",
      "Data columns (total 35 columns):\n",
      " #   Column             Dtype  \n",
      "---  ------             -----  \n",
      " 0   CMPLNT_NUM         object \n",
      " 1   CMPLNT_FR_DT       object \n",
      " 2   CMPLNT_FR_TM       object \n",
      " 3   CMPLNT_TO_DT       object \n",
      " 4   CMPLNT_TO_TM       object \n",
      " 5   ADDR_PCT_CD        float64\n",
      " 6   RPT_DT             object \n",
      " 7   KY_CD              int64  \n",
      " 8   OFNS_DESC          object \n",
      " 9   PD_CD              float64\n",
      " 10  PD_DESC            object \n",
      " 11  CRM_ATPT_CPTD_CD   object \n",
      " 12  LAW_CAT_CD         object \n",
      " 13  BORO_NM            object \n",
      " 14  LOC_OF_OCCUR_DESC  object \n",
      " 15  PREM_TYP_DESC      object \n",
      " 16  JURIS_DESC         object \n",
      " 17  JURISDICTION_CODE  int64  \n",
      " 18  PARKS_NM           object \n",
      " 19  HADEVELOPT         object \n",
      " 20  HOUSING_PSA        object \n",
      " 21  X_COORD_CD         float64\n",
      " 22  Y_COORD_CD         float64\n",
      " 23  SUSP_AGE_GROUP     object \n",
      " 24  SUSP_RACE          object \n",
      " 25  SUSP_SEX           object \n",
      " 26  TRANSIT_DISTRICT   float64\n",
      " 27  Latitude           float64\n",
      " 28  Longitude          float64\n",
      " 29  Lat_Lon            object \n",
      " 30  PATROL_BORO        object \n",
      " 31  STATION_NAME       object \n",
      " 32  VIC_AGE_GROUP      object \n",
      " 33  VIC_RACE           object \n",
      " 34  VIC_SEX            object \n",
      "dtypes: float64(7), int64(2), object(26)\n",
      "memory usage: 2.3+ GB\n"
     ]
    }
   ],
   "source": [
    "data.info()"
   ]
  },
  {
   "cell_type": "markdown",
   "id": "0295ced0-69e2-4ff1-b610-3be89a4a4d95",
   "metadata": {},
   "source": [
    "## Data Preparation"
   ]
  },
  {
   "cell_type": "markdown",
   "id": "aeef51a9-4477-4036-bc2a-363e7ab60fcd",
   "metadata": {},
   "source": []
  },
  {
   "cell_type": "markdown",
   "id": "500a2bcd-6664-4406-9639-206ad1d8ee45",
   "metadata": {},
   "source": [
    "## Feature Engineering"
   ]
  },
  {
   "cell_type": "markdown",
   "id": "f25c4f7b-a14a-4b74-83fe-398f37d5392c",
   "metadata": {},
   "source": []
  },
  {
   "cell_type": "markdown",
   "id": "6f289876-ca89-4515-b19e-d67574af9d30",
   "metadata": {},
   "source": [
    "# Modeling"
   ]
  },
  {
   "cell_type": "markdown",
   "id": "c3698669-c892-48dc-a195-42b45979ad08",
   "metadata": {},
   "source": []
  },
  {
   "cell_type": "markdown",
   "id": "3352a5be-de43-4a90-80cf-30b2855d97e9",
   "metadata": {},
   "source": [
    "## Baseline Model"
   ]
  },
  {
   "cell_type": "markdown",
   "id": "755c710d-5151-47d3-82e9-2879b79db817",
   "metadata": {},
   "source": []
  },
  {
   "cell_type": "markdown",
   "id": "8f4572de-1172-45d8-99b3-80aeda5bbf75",
   "metadata": {},
   "source": [
    "## Modeline Iterations"
   ]
  },
  {
   "cell_type": "markdown",
   "id": "cff10979-141a-403e-a062-a28ff0723c0e",
   "metadata": {},
   "source": []
  },
  {
   "cell_type": "markdown",
   "id": "d5e217f1-360c-43c6-a5c5-ac10f7f4cab3",
   "metadata": {},
   "source": [
    "## Final Model"
   ]
  },
  {
   "cell_type": "markdown",
   "id": "64cdc28e-6927-4152-83ac-75aa586f93a8",
   "metadata": {},
   "source": []
  },
  {
   "cell_type": "markdown",
   "id": "52924b1d-2c75-4517-886b-449f5bdf32ce",
   "metadata": {},
   "source": [
    "# Conclusion"
   ]
  },
  {
   "cell_type": "markdown",
   "id": "4bbf02a6-b9a0-448b-96e4-fe1e21e6f3f7",
   "metadata": {},
   "source": []
  },
  {
   "cell_type": "markdown",
   "id": "3eb77b8a-7835-4f31-83c3-67fe33d3ef34",
   "metadata": {},
   "source": [
    "## Limitations"
   ]
  },
  {
   "cell_type": "markdown",
   "id": "cfe1210c-4c3e-495c-8166-5f213417c5a6",
   "metadata": {},
   "source": []
  },
  {
   "cell_type": "markdown",
   "id": "cde2394e-9486-4a7a-9546-eda19a36b533",
   "metadata": {},
   "source": [
    "## Next Steps"
   ]
  },
  {
   "cell_type": "markdown",
   "id": "9ea64d2f-b2aa-4524-8020-7ffa4a13936a",
   "metadata": {},
   "source": []
  }
 ],
 "metadata": {
  "kernelspec": {
   "display_name": "Python 3 (ipykernel)",
   "language": "python",
   "name": "python3"
  },
  "language_info": {
   "codemirror_mode": {
    "name": "ipython",
    "version": 3
   },
   "file_extension": ".py",
   "mimetype": "text/x-python",
   "name": "python",
   "nbconvert_exporter": "python",
   "pygments_lexer": "ipython3",
   "version": "3.11.8"
  }
 },
 "nbformat": 4,
 "nbformat_minor": 5
}
